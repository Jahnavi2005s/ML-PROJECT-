{
  "nbformat": 4,
  "nbformat_minor": 0,
  "metadata": {
    "colab": {
      "provenance": [],
      "authorship_tag": "ABX9TyPVsAwCvGjSmA1IJet8nZPC",
      "include_colab_link": true
    },
    "kernelspec": {
      "name": "python3",
      "display_name": "Python 3"
    },
    "language_info": {
      "name": "python"
    }
  },
  "cells": [
    {
      "cell_type": "markdown",
      "metadata": {
        "id": "view-in-github",
        "colab_type": "text"
      },
      "source": [
        "<a href=\"https://colab.research.google.com/github/Jahnavi2005s/ML-PROJECT-/blob/main/randomforest.ipynb\" target=\"_parent\"><img src=\"https://colab.research.google.com/assets/colab-badge.svg\" alt=\"Open In Colab\"/></a>"
      ]
    },
    {
      "cell_type": "code",
      "execution_count": null,
      "metadata": {
        "id": "5IgYDduhqTV3"
      },
      "outputs": [],
      "source": [
        "import numpy as np\n",
        "import pandas as pd\n",
        "from sklearn.ensemble import RandomForestClassifier, RandomForestRegressor\n",
        "from sklearn.metrics import classification_report, confusion_matrix, mean_squared_error, r2_score\n",
        "from sklearn.model_selection import train_test_split\n",
        "import pandas as pd\n",
        "import matplotlib.pyplot as plt\n"
      ]
    },
    {
      "source": [
        "import numpy as np\n",
        "import pandas as pd  # Importing pandas and aliasing it as 'pd'\n",
        "from sklearn.ensemble import RandomForestClassifier, RandomForestRegressor\n",
        "from sklearn.metrics import classification_report, confusion_matrix, mean_squared_error, r2_score\n",
        "from sklearn.model_selection import train_test_split\n",
        "import matplotlib.pyplot as plt\n",
        "\n",
        "# Load your dataset\n",
        "# Replace 'your_dataset.csv' with your actual file path\n",
        "data = pd.read_csv('/breast_cancer.csv')  # Using pd to call the read_csv function"
      ],
      "cell_type": "code",
      "metadata": {
        "id": "kMCmaZfWsMJc"
      },
      "execution_count": null,
      "outputs": []
    },
    {
      "cell_type": "code",
      "source": [
        "# Define features (X) and target variable (y)\n",
        "X = data.drop('Class', axis=1)\n",
        "y = data['Class']\n"
      ],
      "metadata": {
        "id": "wtYDTW9Wqkwz"
      },
      "execution_count": null,
      "outputs": []
    },
    {
      "cell_type": "code",
      "source": [
        "# Define features (X) and target variable (y)\n",
        "X = data.drop('Class', axis=1)\n",
        "y = data['Class']\n"
      ],
      "metadata": {
        "id": "Pn_TfQZJtLwL"
      },
      "execution_count": null,
      "outputs": []
    },
    {
      "cell_type": "code",
      "source": [],
      "metadata": {
        "id": "kgF79RTftL5c"
      },
      "execution_count": null,
      "outputs": []
    },
    {
      "source": [
        "# Initialize and train a RandomForestClassifier\n",
        "# Example parameters\n",
        "rf_classifier = RandomForestClassifier(n_estimators=100, random_state=42)\n",
        "# Split the data into training and testing sets\n",
        "X_train, X_test, y_train, y_test = train_test_split(X, y, test_size=0.2, random_state=42)\n",
        "# Train the classifier\n",
        "rf_classifier.fit(X_train, y_train)\n",
        "# Make predictions\n",
        "y_pred_class = rf_classifier.predict(X_test)\n"
      ],
      "cell_type": "code",
      "metadata": {
        "id": "yTzpr-4PtguC"
      },
      "execution_count": null,
      "outputs": []
    },
    {
      "cell_type": "code",
      "source": [
        "# Evaluate the classifier\n",
        "print(\"Classification Report:\\n\", classification_report(y_test, y_pred_class))\n",
        "print(\"Confusion Matrix:\\n\", confusion_matrix(y_test, y_pred_class))\n",
        "\n"
      ],
      "metadata": {
        "colab": {
          "base_uri": "https://localhost:8080/"
        },
        "id": "y0vr7pSXsyKj",
        "outputId": "86baf7f1-91f9-4004-d0ff-8a2a518ba051"
      },
      "execution_count": null,
      "outputs": [
        {
          "output_type": "stream",
          "name": "stdout",
          "text": [
            "Classification Report:\n",
            "               precision    recall  f1-score   support\n",
            "\n",
            "           2       0.93      0.99      0.96        79\n",
            "           4       0.98      0.90      0.94        58\n",
            "\n",
            "    accuracy                           0.95       137\n",
            "   macro avg       0.95      0.94      0.95       137\n",
            "weighted avg       0.95      0.95      0.95       137\n",
            "\n",
            "Confusion Matrix:\n",
            " [[78  1]\n",
            " [ 6 52]]\n"
          ]
        }
      ]
    },
    {
      "cell_type": "code",
      "source": [],
      "metadata": {
        "id": "VEn6IJ_stjMS"
      },
      "execution_count": null,
      "outputs": []
    },
    {
      "cell_type": "code",
      "source": [],
      "metadata": {
        "id": "sQMXGWIstjI0"
      },
      "execution_count": null,
      "outputs": []
    },
    {
      "cell_type": "code",
      "source": [],
      "metadata": {
        "id": "YQ63S9QEtjFj"
      },
      "execution_count": null,
      "outputs": []
    }
  ]
}