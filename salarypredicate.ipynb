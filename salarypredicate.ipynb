{
  "nbformat": 4,
  "nbformat_minor": 0,
  "metadata": {
    "colab": {
      "provenance": [],
      "authorship_tag": "ABX9TyPig1biZ1b9hCmEvXmoq/sJ",
      "include_colab_link": true
    },
    "kernelspec": {
      "name": "python3",
      "display_name": "Python 3"
    },
    "language_info": {
      "name": "python"
    }
  },
  "cells": [
    {
      "cell_type": "markdown",
      "metadata": {
        "id": "view-in-github",
        "colab_type": "text"
      },
      "source": [
        "<a href=\"https://colab.research.google.com/github/Jahnavi2005s/ML-PROJECT-/blob/main/salarypredicate.ipynb\" target=\"_parent\"><img src=\"https://colab.research.google.com/assets/colab-badge.svg\" alt=\"Open In Colab\"/></a>"
      ]
    },
    {
      "source": [
        "import pandas as pd\n",
        "import numpy as np\n",
        "import seaborn as sns\n",
        "import matplotlib.pyplot as plt\n",
        "from sklearn.model_selection import train_test_split\n",
        "from sklearn.preprocessing import LabelEncoder, StandardScaler\n",
        "from sklearn.ensemble import RandomForestRegressor\n",
        "from xgboost import XGBRegressor\n",
        "from sklearn.metrics import r2_score, mean_absolute_error, mean_squared_error\n",
        "\n",
        "# Load the dataset (Assuming it's in CSV format)\n",
        "data = pd.read_csv(\"/content/Salary_Data.csv\")\n",
        "\n",
        "# Display basic information about the dataset\n",
        "print(data.head())\n",
        "print(data.info())\n",
        "print(data.describe())\n",
        "\n",
        "# Handle missing values\n",
        "data.dropna(inplace=True)\n",
        "\n",
        "# Encode categorical variables if any\n",
        "label_encoders = {}\n",
        "for column in data.select_dtypes(include=['object']).columns:\n",
        "    le = LabelEncoder()\n",
        "    data[column] = le.fit_transform(data[column])\n",
        "    label_encoders[column] = le\n",
        "\n",
        "# **Get actual column names from the DataFrame**\n",
        "# print(data.columns)  # Print the available columns to inspect them\n",
        "\n",
        "# **Replace with your actual column names**\n",
        "# Assuming your actual columns are named 'YearsExperience' and 'Salary'\n",
        "X = data[['YearsExperience']]  # Replace with actual column names\n",
        "y = data['Salary']  # Replace with actual column name\n",
        "\n",
        "\n",
        "# Standardize numerical features\n",
        "scaler = StandardScaler()\n",
        "X = scaler.fit_transform(X)\n",
        "\n",
        "# Split data into training and testing sets\n",
        "X_train, X_test, y_train, y_test = train_test_split(X, y, test_size=0.2, random_state=42)\n",
        "\n",
        "# Train models\n",
        "rf_model = RandomForestRegressor(n_estimators=500, random_state=42)\n",
        "rf_model.fit(X_train, y_train)\n",
        "\n",
        "xgb_model = XGBRegressor(n_estimators=500, learning_rate=0.05, random_state=42)\n",
        "xgb_model.fit(X_train, y_train)\n",
        "\n",
        "# Predictions\n",
        "rf_preds = rf_model.predict(X_test)\n",
        "xgb_preds = xgb_model.predict(X_test)\n",
        "\n",
        "# Evaluate performance\n",
        "rf_r2 = r2_score(y_test, rf_preds)\n",
        "xgb_r2 = r2_score(y_test, xgb_preds)\n",
        "rf_mae = mean_absolute_error(y_test, rf_preds)\n",
        "xgb_mae = mean_absolute_error(y_test, xgb_preds)\n",
        "rf_mse = mean_squared_error(y_test, rf_preds)\n",
        "xgb_mse = mean_squared_error(y_test, xgb_preds)\n",
        "\n",
        "print(f\"Random Forest R^2 Score: {rf_r2:.4f}, MAE: {rf_mae:.4f}, MSE: {rf_mse:.4f}\")\n",
        "print(f\"XGBoost R^2 Score: {xgb_r2:.4f}, MAE: {xgb_mae:.4f}, MSE: {xgb_mse:.4f}\")\n",
        "\n",
        "# Visualize feature importance\n",
        "feature_importance = rf_model.feature_importances_\n",
        "features = ['YearsExperience']  # Replace with actual column names used in X\n",
        "sns.barplot(x=feature_importance, y=features)\n",
        "plt.title(\"Feature Importance\")\n",
        "plt.show()"
      ],
      "cell_type": "code",
      "metadata": {
        "colab": {
          "base_uri": "https://localhost:8080/",
          "height": 920
        },
        "id": "L2xqoSfGV3gb",
        "outputId": "933849b6-127a-4ca3-fb2c-bf24637a61aa"
      },
      "execution_count": 12,
      "outputs": [
        {
          "output_type": "stream",
          "name": "stdout",
          "text": [
            "   YearsExperience  Salary\n",
            "0              1.1   39343\n",
            "1              1.3   46205\n",
            "2              1.5   37731\n",
            "3              2.0   43525\n",
            "4              2.2   39891\n",
            "<class 'pandas.core.frame.DataFrame'>\n",
            "RangeIndex: 30 entries, 0 to 29\n",
            "Data columns (total 2 columns):\n",
            " #   Column           Non-Null Count  Dtype  \n",
            "---  ------           --------------  -----  \n",
            " 0   YearsExperience  30 non-null     float64\n",
            " 1   Salary           30 non-null     int64  \n",
            "dtypes: float64(1), int64(1)\n",
            "memory usage: 612.0 bytes\n",
            "None\n",
            "       YearsExperience         Salary\n",
            "count        30.000000      30.000000\n",
            "mean          5.313333   76003.000000\n",
            "std           2.837888   27414.429785\n",
            "min           1.100000   37731.000000\n",
            "25%           3.200000   56720.750000\n",
            "50%           4.700000   65237.000000\n",
            "75%           7.700000  100544.750000\n",
            "max          10.500000  122391.000000\n",
            "Random Forest R^2 Score: 0.8899, MAE: 6542.4081, MSE: 56217984.8813\n",
            "XGBoost R^2 Score: 0.7976, MAE: 8912.2998, MSE: 103404576.0000\n"
          ]
        },
        {
          "output_type": "display_data",
          "data": {
            "text/plain": [
              "<Figure size 640x480 with 1 Axes>"
            ],
            "image/png": "[encoded data removed]"
          },
          "metadata": {}
        }
      ]
    }
  ]
}